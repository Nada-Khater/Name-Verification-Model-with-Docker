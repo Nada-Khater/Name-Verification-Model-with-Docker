{
  "nbformat": 4,
  "nbformat_minor": 0,
  "metadata": {
    "colab": {
      "provenance": []
    },
    "kernelspec": {
      "name": "python3",
      "display_name": "Python 3"
    },
    "language_info": {
      "name": "python"
    },
    "gpuClass": "standard",
    "accelerator": "GPU"
  },
  "cells": [
    {
      "cell_type": "code",
      "source": [
        "!pip install tensorflow-text"
      ],
      "metadata": {
        "id": "jM3D5Cortg3m"
      },
      "execution_count": null,
      "outputs": []
    },
    {
      "cell_type": "code",
      "execution_count": 2,
      "metadata": {
        "id": "jXuHivhZvqvX"
      },
      "outputs": [],
      "source": [
        "import random\n",
        "import numpy as np\n",
        "import pandas as pd\n",
        "import tensorflow as tf\n",
        "import tensorflow_text as text\n",
        "from keras import layers\n",
        "from tensorflow import keras\n",
        "from tensorflow.keras.models import Sequential\n",
        "from tensorflow.keras.preprocessing.text import Tokenizer\n",
        "from tensorflow.keras.preprocessing.sequence import pad_sequences"
      ]
    },
    {
      "cell_type": "code",
      "source": [
        "df = pd.read_csv('/content/drive/MyDrive/Arabic Dataset/01_firstExam_data_arabic_extra_gender_feature_v1.csv')"
      ],
      "metadata": {
        "id": "pF3ajnn31xxr"
      },
      "execution_count": 3,
      "outputs": []
    },
    {
      "cell_type": "code",
      "source": [
        "df.head()"
      ],
      "metadata": {
        "colab": {
          "base_uri": "https://localhost:8080/",
          "height": 525
        },
        "id": "h-et3c6-15S8",
        "outputId": "071ecc55-c888-4736-89ae-a8f32f32c7f3"
      },
      "execution_count": 4,
      "outputs": [
        {
          "output_type": "execute_result",
          "data": {
            "text/plain": [
              "    desk_no                            name        school_name_arabic  \\\n",
              "0  102300.0  احمد محمد احمد محمود ابوالقاسم  مدارس النيل المصريه بنين   \n",
              "1  102301.0       احمد محمد عبدالصادق سلامه  مدارس النيل المصريه بنين   \n",
              "2  102302.0        ادهم اشرف عبدالهادي معاذ  مدارس النيل المصريه بنين   \n",
              "3  102303.0          بيير جون نبيل غالي سعد  مدارس النيل المصريه بنين   \n",
              "4  102304.0      رامي محمود عبدالمنعم شحاته  مدارس النيل المصريه بنين   \n",
              "\n",
              "  administration government_Arabic    branch Percentage student_type status  \\\n",
              "0         أكتوبر            الجيزة  غير محدد         0%  نوعيات أخرى   ناجح   \n",
              "1         أكتوبر            الجيزة  غير محدد         0%  نوعيات أخرى   ناجح   \n",
              "2         أكتوبر            الجيزة  غير محدد         0%  نوعيات أخرى   ناجح   \n",
              "3         أكتوبر            الجيزة  غير محدد         0%  نوعيات أخرى   ناجح   \n",
              "4         أكتوبر            الجيزة  غير محدد         0%  نوعيات أخرى   ناجح   \n",
              "\n",
              "     arabic  ... chemistry   biology   geology applied_math   physics total  \\\n",
              "0  غير مقرر  ...  غير مقرر  غير مقرر  غير مقرر     غير مقرر  غير مقرر   0.0   \n",
              "1  غير مقرر  ...  غير مقرر  غير مقرر  غير مقرر     غير مقرر  غير مقرر   0.0   \n",
              "2  غير مقرر  ...  غير مقرر  غير مقرر  غير مقرر     غير مقرر  غير مقرر   0.0   \n",
              "3  غير مقرر  ...  غير مقرر  غير مقرر  غير مقرر     غير مقرر  غير مقرر   0.0   \n",
              "4  غير مقرر  ...  غير مقرر  غير مقرر  غير مقرر     غير مقرر  غير مقرر   0.0   \n",
              "\n",
              "  religion altarbiat_alwatania economics_statistics gender  \n",
              "0       23                  20             غير مقرر      M  \n",
              "1       23                  23             غير مقرر      M  \n",
              "2       17                  14             غير مقرر      M  \n",
              "3       21                  22             غير مقرر      M  \n",
              "4       19                  21             غير مقرر      M  \n",
              "\n",
              "[5 rows x 27 columns]"
            ],
            "text/html": [
              "\n",
              "  <div id=\"df-af2132ea-a14b-46f8-b594-46732b3d6a22\">\n",
              "    <div class=\"colab-df-container\">\n",
              "      <div>\n",
              "<style scoped>\n",
              "    .dataframe tbody tr th:only-of-type {\n",
              "        vertical-align: middle;\n",
              "    }\n",
              "\n",
              "    .dataframe tbody tr th {\n",
              "        vertical-align: top;\n",
              "    }\n",
              "\n",
              "    .dataframe thead th {\n",
              "        text-align: right;\n",
              "    }\n",
              "</style>\n",
              "<table border=\"1\" class=\"dataframe\">\n",
              "  <thead>\n",
              "    <tr style=\"text-align: right;\">\n",
              "      <th></th>\n",
              "      <th>desk_no</th>\n",
              "      <th>name</th>\n",
              "      <th>school_name_arabic</th>\n",
              "      <th>administration</th>\n",
              "      <th>government_Arabic</th>\n",
              "      <th>branch</th>\n",
              "      <th>Percentage</th>\n",
              "      <th>student_type</th>\n",
              "      <th>status</th>\n",
              "      <th>arabic</th>\n",
              "      <th>...</th>\n",
              "      <th>chemistry</th>\n",
              "      <th>biology</th>\n",
              "      <th>geology</th>\n",
              "      <th>applied_math</th>\n",
              "      <th>physics</th>\n",
              "      <th>total</th>\n",
              "      <th>religion</th>\n",
              "      <th>altarbiat_alwatania</th>\n",
              "      <th>economics_statistics</th>\n",
              "      <th>gender</th>\n",
              "    </tr>\n",
              "  </thead>\n",
              "  <tbody>\n",
              "    <tr>\n",
              "      <th>0</th>\n",
              "      <td>102300.0</td>\n",
              "      <td>احمد محمد احمد محمود ابوالقاسم</td>\n",
              "      <td>مدارس النيل المصريه بنين</td>\n",
              "      <td>أكتوبر</td>\n",
              "      <td>الجيزة</td>\n",
              "      <td>غير محدد</td>\n",
              "      <td>0%</td>\n",
              "      <td>نوعيات أخرى</td>\n",
              "      <td>ناجح</td>\n",
              "      <td>غير مقرر</td>\n",
              "      <td>...</td>\n",
              "      <td>غير مقرر</td>\n",
              "      <td>غير مقرر</td>\n",
              "      <td>غير مقرر</td>\n",
              "      <td>غير مقرر</td>\n",
              "      <td>غير مقرر</td>\n",
              "      <td>0.0</td>\n",
              "      <td>23</td>\n",
              "      <td>20</td>\n",
              "      <td>غير مقرر</td>\n",
              "      <td>M</td>\n",
              "    </tr>\n",
              "    <tr>\n",
              "      <th>1</th>\n",
              "      <td>102301.0</td>\n",
              "      <td>احمد محمد عبدالصادق سلامه</td>\n",
              "      <td>مدارس النيل المصريه بنين</td>\n",
              "      <td>أكتوبر</td>\n",
              "      <td>الجيزة</td>\n",
              "      <td>غير محدد</td>\n",
              "      <td>0%</td>\n",
              "      <td>نوعيات أخرى</td>\n",
              "      <td>ناجح</td>\n",
              "      <td>غير مقرر</td>\n",
              "      <td>...</td>\n",
              "      <td>غير مقرر</td>\n",
              "      <td>غير مقرر</td>\n",
              "      <td>غير مقرر</td>\n",
              "      <td>غير مقرر</td>\n",
              "      <td>غير مقرر</td>\n",
              "      <td>0.0</td>\n",
              "      <td>23</td>\n",
              "      <td>23</td>\n",
              "      <td>غير مقرر</td>\n",
              "      <td>M</td>\n",
              "    </tr>\n",
              "    <tr>\n",
              "      <th>2</th>\n",
              "      <td>102302.0</td>\n",
              "      <td>ادهم اشرف عبدالهادي معاذ</td>\n",
              "      <td>مدارس النيل المصريه بنين</td>\n",
              "      <td>أكتوبر</td>\n",
              "      <td>الجيزة</td>\n",
              "      <td>غير محدد</td>\n",
              "      <td>0%</td>\n",
              "      <td>نوعيات أخرى</td>\n",
              "      <td>ناجح</td>\n",
              "      <td>غير مقرر</td>\n",
              "      <td>...</td>\n",
              "      <td>غير مقرر</td>\n",
              "      <td>غير مقرر</td>\n",
              "      <td>غير مقرر</td>\n",
              "      <td>غير مقرر</td>\n",
              "      <td>غير مقرر</td>\n",
              "      <td>0.0</td>\n",
              "      <td>17</td>\n",
              "      <td>14</td>\n",
              "      <td>غير مقرر</td>\n",
              "      <td>M</td>\n",
              "    </tr>\n",
              "    <tr>\n",
              "      <th>3</th>\n",
              "      <td>102303.0</td>\n",
              "      <td>بيير جون نبيل غالي سعد</td>\n",
              "      <td>مدارس النيل المصريه بنين</td>\n",
              "      <td>أكتوبر</td>\n",
              "      <td>الجيزة</td>\n",
              "      <td>غير محدد</td>\n",
              "      <td>0%</td>\n",
              "      <td>نوعيات أخرى</td>\n",
              "      <td>ناجح</td>\n",
              "      <td>غير مقرر</td>\n",
              "      <td>...</td>\n",
              "      <td>غير مقرر</td>\n",
              "      <td>غير مقرر</td>\n",
              "      <td>غير مقرر</td>\n",
              "      <td>غير مقرر</td>\n",
              "      <td>غير مقرر</td>\n",
              "      <td>0.0</td>\n",
              "      <td>21</td>\n",
              "      <td>22</td>\n",
              "      <td>غير مقرر</td>\n",
              "      <td>M</td>\n",
              "    </tr>\n",
              "    <tr>\n",
              "      <th>4</th>\n",
              "      <td>102304.0</td>\n",
              "      <td>رامي محمود عبدالمنعم شحاته</td>\n",
              "      <td>مدارس النيل المصريه بنين</td>\n",
              "      <td>أكتوبر</td>\n",
              "      <td>الجيزة</td>\n",
              "      <td>غير محدد</td>\n",
              "      <td>0%</td>\n",
              "      <td>نوعيات أخرى</td>\n",
              "      <td>ناجح</td>\n",
              "      <td>غير مقرر</td>\n",
              "      <td>...</td>\n",
              "      <td>غير مقرر</td>\n",
              "      <td>غير مقرر</td>\n",
              "      <td>غير مقرر</td>\n",
              "      <td>غير مقرر</td>\n",
              "      <td>غير مقرر</td>\n",
              "      <td>0.0</td>\n",
              "      <td>19</td>\n",
              "      <td>21</td>\n",
              "      <td>غير مقرر</td>\n",
              "      <td>M</td>\n",
              "    </tr>\n",
              "  </tbody>\n",
              "</table>\n",
              "<p>5 rows × 27 columns</p>\n",
              "</div>\n",
              "      <button class=\"colab-df-convert\" onclick=\"convertToInteractive('df-af2132ea-a14b-46f8-b594-46732b3d6a22')\"\n",
              "              title=\"Convert this dataframe to an interactive table.\"\n",
              "              style=\"display:none;\">\n",
              "        \n",
              "  <svg xmlns=\"http://www.w3.org/2000/svg\" height=\"24px\"viewBox=\"0 0 24 24\"\n",
              "       width=\"24px\">\n",
              "    <path d=\"M0 0h24v24H0V0z\" fill=\"none\"/>\n",
              "    <path d=\"M18.56 5.44l.94 2.06.94-2.06 2.06-.94-2.06-.94-.94-2.06-.94 2.06-2.06.94zm-11 1L8.5 8.5l.94-2.06 2.06-.94-2.06-.94L8.5 2.5l-.94 2.06-2.06.94zm10 10l.94 2.06.94-2.06 2.06-.94-2.06-.94-.94-2.06-.94 2.06-2.06.94z\"/><path d=\"M17.41 7.96l-1.37-1.37c-.4-.4-.92-.59-1.43-.59-.52 0-1.04.2-1.43.59L10.3 9.45l-7.72 7.72c-.78.78-.78 2.05 0 2.83L4 21.41c.39.39.9.59 1.41.59.51 0 1.02-.2 1.41-.59l7.78-7.78 2.81-2.81c.8-.78.8-2.07 0-2.86zM5.41 20L4 18.59l7.72-7.72 1.47 1.35L5.41 20z\"/>\n",
              "  </svg>\n",
              "      </button>\n",
              "      \n",
              "  <style>\n",
              "    .colab-df-container {\n",
              "      display:flex;\n",
              "      flex-wrap:wrap;\n",
              "      gap: 12px;\n",
              "    }\n",
              "\n",
              "    .colab-df-convert {\n",
              "      background-color: #E8F0FE;\n",
              "      border: none;\n",
              "      border-radius: 50%;\n",
              "      cursor: pointer;\n",
              "      display: none;\n",
              "      fill: #1967D2;\n",
              "      height: 32px;\n",
              "      padding: 0 0 0 0;\n",
              "      width: 32px;\n",
              "    }\n",
              "\n",
              "    .colab-df-convert:hover {\n",
              "      background-color: #E2EBFA;\n",
              "      box-shadow: 0px 1px 2px rgba(60, 64, 67, 0.3), 0px 1px 3px 1px rgba(60, 64, 67, 0.15);\n",
              "      fill: #174EA6;\n",
              "    }\n",
              "\n",
              "    [theme=dark] .colab-df-convert {\n",
              "      background-color: #3B4455;\n",
              "      fill: #D2E3FC;\n",
              "    }\n",
              "\n",
              "    [theme=dark] .colab-df-convert:hover {\n",
              "      background-color: #434B5C;\n",
              "      box-shadow: 0px 1px 3px 1px rgba(0, 0, 0, 0.15);\n",
              "      filter: drop-shadow(0px 1px 2px rgba(0, 0, 0, 0.3));\n",
              "      fill: #FFFFFF;\n",
              "    }\n",
              "  </style>\n",
              "\n",
              "      <script>\n",
              "        const buttonEl =\n",
              "          document.querySelector('#df-af2132ea-a14b-46f8-b594-46732b3d6a22 button.colab-df-convert');\n",
              "        buttonEl.style.display =\n",
              "          google.colab.kernel.accessAllowed ? 'block' : 'none';\n",
              "\n",
              "        async function convertToInteractive(key) {\n",
              "          const element = document.querySelector('#df-af2132ea-a14b-46f8-b594-46732b3d6a22');\n",
              "          const dataTable =\n",
              "            await google.colab.kernel.invokeFunction('convertToInteractive',\n",
              "                                                     [key], {});\n",
              "          if (!dataTable) return;\n",
              "\n",
              "          const docLinkHtml = 'Like what you see? Visit the ' +\n",
              "            '<a target=\"_blank\" href=https://colab.research.google.com/notebooks/data_table.ipynb>data table notebook</a>'\n",
              "            + ' to learn more about interactive tables.';\n",
              "          element.innerHTML = '';\n",
              "          dataTable['output_type'] = 'display_data';\n",
              "          await google.colab.output.renderOutput(dataTable, element);\n",
              "          const docLink = document.createElement('div');\n",
              "          docLink.innerHTML = docLinkHtml;\n",
              "          element.appendChild(docLink);\n",
              "        }\n",
              "      </script>\n",
              "    </div>\n",
              "  </div>\n",
              "  "
            ]
          },
          "metadata": {},
          "execution_count": 4
        }
      ]
    },
    {
      "cell_type": "code",
      "source": [
        "df.shape"
      ],
      "metadata": {
        "colab": {
          "base_uri": "https://localhost:8080/"
        },
        "id": "13eYHrEbQueE",
        "outputId": "3769c17b-7a0c-4b12-c76e-48c5b5e0d2f5"
      },
      "execution_count": 5,
      "outputs": [
        {
          "output_type": "execute_result",
          "data": {
            "text/plain": [
              "(698196, 27)"
            ]
          },
          "metadata": {},
          "execution_count": 5
        }
      ]
    },
    {
      "cell_type": "code",
      "source": [
        "df.drop(['desk_no','school_name_arabic','administration','government_Arabic','branch','Percentage',\n",
        "         'student_type','status','arabic','first_foreign_lang','second_foreign_lang','pure_mathematics',\n",
        "         'history','geography','philosophy','psychology','chemistry','biology','geology','applied_math',\n",
        "         'physics','total','religion','altarbiat_alwatania','economics_statistics','gender'],\n",
        "        axis=1, inplace= True)"
      ],
      "metadata": {
        "id": "MmPrItQb4FqU"
      },
      "execution_count": 6,
      "outputs": []
    },
    {
      "cell_type": "code",
      "source": [
        "df.head(10)"
      ],
      "metadata": {
        "colab": {
          "base_uri": "https://localhost:8080/",
          "height": 363
        },
        "id": "PrZ0rR524cWe",
        "outputId": "8a3e574b-561b-4dd2-ca8a-c1c7f1ac2d4c"
      },
      "execution_count": 7,
      "outputs": [
        {
          "output_type": "execute_result",
          "data": {
            "text/plain": [
              "                                  name\n",
              "0       احمد محمد احمد محمود ابوالقاسم\n",
              "1            احمد محمد عبدالصادق سلامه\n",
              "2             ادهم اشرف عبدالهادي معاذ\n",
              "3               بيير جون نبيل غالي سعد\n",
              "4           رامي محمود عبدالمنعم شحاته\n",
              "5          زياد عزمي احمد محمد الشهاوي\n",
              "6       عبدالرحمن وليد عصفور احمد مشعل\n",
              "7  عبدالله مصطفي محمود عبدالحميد محمود\n",
              "8           عمرو خالد محمود كامل السيد\n",
              "9                  كريم احمد محمد حامد"
            ],
            "text/html": [
              "\n",
              "  <div id=\"df-6cc8469b-6fc3-459a-8df8-178c91bba722\">\n",
              "    <div class=\"colab-df-container\">\n",
              "      <div>\n",
              "<style scoped>\n",
              "    .dataframe tbody tr th:only-of-type {\n",
              "        vertical-align: middle;\n",
              "    }\n",
              "\n",
              "    .dataframe tbody tr th {\n",
              "        vertical-align: top;\n",
              "    }\n",
              "\n",
              "    .dataframe thead th {\n",
              "        text-align: right;\n",
              "    }\n",
              "</style>\n",
              "<table border=\"1\" class=\"dataframe\">\n",
              "  <thead>\n",
              "    <tr style=\"text-align: right;\">\n",
              "      <th></th>\n",
              "      <th>name</th>\n",
              "    </tr>\n",
              "  </thead>\n",
              "  <tbody>\n",
              "    <tr>\n",
              "      <th>0</th>\n",
              "      <td>احمد محمد احمد محمود ابوالقاسم</td>\n",
              "    </tr>\n",
              "    <tr>\n",
              "      <th>1</th>\n",
              "      <td>احمد محمد عبدالصادق سلامه</td>\n",
              "    </tr>\n",
              "    <tr>\n",
              "      <th>2</th>\n",
              "      <td>ادهم اشرف عبدالهادي معاذ</td>\n",
              "    </tr>\n",
              "    <tr>\n",
              "      <th>3</th>\n",
              "      <td>بيير جون نبيل غالي سعد</td>\n",
              "    </tr>\n",
              "    <tr>\n",
              "      <th>4</th>\n",
              "      <td>رامي محمود عبدالمنعم شحاته</td>\n",
              "    </tr>\n",
              "    <tr>\n",
              "      <th>5</th>\n",
              "      <td>زياد عزمي احمد محمد الشهاوي</td>\n",
              "    </tr>\n",
              "    <tr>\n",
              "      <th>6</th>\n",
              "      <td>عبدالرحمن وليد عصفور احمد مشعل</td>\n",
              "    </tr>\n",
              "    <tr>\n",
              "      <th>7</th>\n",
              "      <td>عبدالله مصطفي محمود عبدالحميد محمود</td>\n",
              "    </tr>\n",
              "    <tr>\n",
              "      <th>8</th>\n",
              "      <td>عمرو خالد محمود كامل السيد</td>\n",
              "    </tr>\n",
              "    <tr>\n",
              "      <th>9</th>\n",
              "      <td>كريم احمد محمد حامد</td>\n",
              "    </tr>\n",
              "  </tbody>\n",
              "</table>\n",
              "</div>\n",
              "      <button class=\"colab-df-convert\" onclick=\"convertToInteractive('df-6cc8469b-6fc3-459a-8df8-178c91bba722')\"\n",
              "              title=\"Convert this dataframe to an interactive table.\"\n",
              "              style=\"display:none;\">\n",
              "        \n",
              "  <svg xmlns=\"http://www.w3.org/2000/svg\" height=\"24px\"viewBox=\"0 0 24 24\"\n",
              "       width=\"24px\">\n",
              "    <path d=\"M0 0h24v24H0V0z\" fill=\"none\"/>\n",
              "    <path d=\"M18.56 5.44l.94 2.06.94-2.06 2.06-.94-2.06-.94-.94-2.06-.94 2.06-2.06.94zm-11 1L8.5 8.5l.94-2.06 2.06-.94-2.06-.94L8.5 2.5l-.94 2.06-2.06.94zm10 10l.94 2.06.94-2.06 2.06-.94-2.06-.94-.94-2.06-.94 2.06-2.06.94z\"/><path d=\"M17.41 7.96l-1.37-1.37c-.4-.4-.92-.59-1.43-.59-.52 0-1.04.2-1.43.59L10.3 9.45l-7.72 7.72c-.78.78-.78 2.05 0 2.83L4 21.41c.39.39.9.59 1.41.59.51 0 1.02-.2 1.41-.59l7.78-7.78 2.81-2.81c.8-.78.8-2.07 0-2.86zM5.41 20L4 18.59l7.72-7.72 1.47 1.35L5.41 20z\"/>\n",
              "  </svg>\n",
              "      </button>\n",
              "      \n",
              "  <style>\n",
              "    .colab-df-container {\n",
              "      display:flex;\n",
              "      flex-wrap:wrap;\n",
              "      gap: 12px;\n",
              "    }\n",
              "\n",
              "    .colab-df-convert {\n",
              "      background-color: #E8F0FE;\n",
              "      border: none;\n",
              "      border-radius: 50%;\n",
              "      cursor: pointer;\n",
              "      display: none;\n",
              "      fill: #1967D2;\n",
              "      height: 32px;\n",
              "      padding: 0 0 0 0;\n",
              "      width: 32px;\n",
              "    }\n",
              "\n",
              "    .colab-df-convert:hover {\n",
              "      background-color: #E2EBFA;\n",
              "      box-shadow: 0px 1px 2px rgba(60, 64, 67, 0.3), 0px 1px 3px 1px rgba(60, 64, 67, 0.15);\n",
              "      fill: #174EA6;\n",
              "    }\n",
              "\n",
              "    [theme=dark] .colab-df-convert {\n",
              "      background-color: #3B4455;\n",
              "      fill: #D2E3FC;\n",
              "    }\n",
              "\n",
              "    [theme=dark] .colab-df-convert:hover {\n",
              "      background-color: #434B5C;\n",
              "      box-shadow: 0px 1px 3px 1px rgba(0, 0, 0, 0.15);\n",
              "      filter: drop-shadow(0px 1px 2px rgba(0, 0, 0, 0.3));\n",
              "      fill: #FFFFFF;\n",
              "    }\n",
              "  </style>\n",
              "\n",
              "      <script>\n",
              "        const buttonEl =\n",
              "          document.querySelector('#df-6cc8469b-6fc3-459a-8df8-178c91bba722 button.colab-df-convert');\n",
              "        buttonEl.style.display =\n",
              "          google.colab.kernel.accessAllowed ? 'block' : 'none';\n",
              "\n",
              "        async function convertToInteractive(key) {\n",
              "          const element = document.querySelector('#df-6cc8469b-6fc3-459a-8df8-178c91bba722');\n",
              "          const dataTable =\n",
              "            await google.colab.kernel.invokeFunction('convertToInteractive',\n",
              "                                                     [key], {});\n",
              "          if (!dataTable) return;\n",
              "\n",
              "          const docLinkHtml = 'Like what you see? Visit the ' +\n",
              "            '<a target=\"_blank\" href=https://colab.research.google.com/notebooks/data_table.ipynb>data table notebook</a>'\n",
              "            + ' to learn more about interactive tables.';\n",
              "          element.innerHTML = '';\n",
              "          dataTable['output_type'] = 'display_data';\n",
              "          await google.colab.output.renderOutput(dataTable, element);\n",
              "          const docLink = document.createElement('div');\n",
              "          docLink.innerHTML = docLinkHtml;\n",
              "          element.appendChild(docLink);\n",
              "        }\n",
              "      </script>\n",
              "    </div>\n",
              "  </div>\n",
              "  "
            ]
          },
          "metadata": {},
          "execution_count": 7
        }
      ]
    },
    {
      "cell_type": "code",
      "source": [
        "df['name'] = df['name'].str.split().str[:3].str.join(sep=\" \")"
      ],
      "metadata": {
        "id": "_WpvrcYLhIyr"
      },
      "execution_count": 8,
      "outputs": []
    },
    {
      "cell_type": "code",
      "source": [
        "df.head()"
      ],
      "metadata": {
        "colab": {
          "base_uri": "https://localhost:8080/",
          "height": 206
        },
        "id": "Z2u3hfHsgofF",
        "outputId": "64b6cc77-b19d-4bfc-8122-c760336c1b0d"
      },
      "execution_count": 9,
      "outputs": [
        {
          "output_type": "execute_result",
          "data": {
            "text/plain": [
              "                   name\n",
              "0        احمد محمد احمد\n",
              "1   احمد محمد عبدالصادق\n",
              "2   ادهم اشرف عبدالهادي\n",
              "3         بيير جون نبيل\n",
              "4  رامي محمود عبدالمنعم"
            ],
            "text/html": [
              "\n",
              "  <div id=\"df-c09d9ddb-42aa-44d9-9c14-f4dcf784386d\">\n",
              "    <div class=\"colab-df-container\">\n",
              "      <div>\n",
              "<style scoped>\n",
              "    .dataframe tbody tr th:only-of-type {\n",
              "        vertical-align: middle;\n",
              "    }\n",
              "\n",
              "    .dataframe tbody tr th {\n",
              "        vertical-align: top;\n",
              "    }\n",
              "\n",
              "    .dataframe thead th {\n",
              "        text-align: right;\n",
              "    }\n",
              "</style>\n",
              "<table border=\"1\" class=\"dataframe\">\n",
              "  <thead>\n",
              "    <tr style=\"text-align: right;\">\n",
              "      <th></th>\n",
              "      <th>name</th>\n",
              "    </tr>\n",
              "  </thead>\n",
              "  <tbody>\n",
              "    <tr>\n",
              "      <th>0</th>\n",
              "      <td>احمد محمد احمد</td>\n",
              "    </tr>\n",
              "    <tr>\n",
              "      <th>1</th>\n",
              "      <td>احمد محمد عبدالصادق</td>\n",
              "    </tr>\n",
              "    <tr>\n",
              "      <th>2</th>\n",
              "      <td>ادهم اشرف عبدالهادي</td>\n",
              "    </tr>\n",
              "    <tr>\n",
              "      <th>3</th>\n",
              "      <td>بيير جون نبيل</td>\n",
              "    </tr>\n",
              "    <tr>\n",
              "      <th>4</th>\n",
              "      <td>رامي محمود عبدالمنعم</td>\n",
              "    </tr>\n",
              "  </tbody>\n",
              "</table>\n",
              "</div>\n",
              "      <button class=\"colab-df-convert\" onclick=\"convertToInteractive('df-c09d9ddb-42aa-44d9-9c14-f4dcf784386d')\"\n",
              "              title=\"Convert this dataframe to an interactive table.\"\n",
              "              style=\"display:none;\">\n",
              "        \n",
              "  <svg xmlns=\"http://www.w3.org/2000/svg\" height=\"24px\"viewBox=\"0 0 24 24\"\n",
              "       width=\"24px\">\n",
              "    <path d=\"M0 0h24v24H0V0z\" fill=\"none\"/>\n",
              "    <path d=\"M18.56 5.44l.94 2.06.94-2.06 2.06-.94-2.06-.94-.94-2.06-.94 2.06-2.06.94zm-11 1L8.5 8.5l.94-2.06 2.06-.94-2.06-.94L8.5 2.5l-.94 2.06-2.06.94zm10 10l.94 2.06.94-2.06 2.06-.94-2.06-.94-.94-2.06-.94 2.06-2.06.94z\"/><path d=\"M17.41 7.96l-1.37-1.37c-.4-.4-.92-.59-1.43-.59-.52 0-1.04.2-1.43.59L10.3 9.45l-7.72 7.72c-.78.78-.78 2.05 0 2.83L4 21.41c.39.39.9.59 1.41.59.51 0 1.02-.2 1.41-.59l7.78-7.78 2.81-2.81c.8-.78.8-2.07 0-2.86zM5.41 20L4 18.59l7.72-7.72 1.47 1.35L5.41 20z\"/>\n",
              "  </svg>\n",
              "      </button>\n",
              "      \n",
              "  <style>\n",
              "    .colab-df-container {\n",
              "      display:flex;\n",
              "      flex-wrap:wrap;\n",
              "      gap: 12px;\n",
              "    }\n",
              "\n",
              "    .colab-df-convert {\n",
              "      background-color: #E8F0FE;\n",
              "      border: none;\n",
              "      border-radius: 50%;\n",
              "      cursor: pointer;\n",
              "      display: none;\n",
              "      fill: #1967D2;\n",
              "      height: 32px;\n",
              "      padding: 0 0 0 0;\n",
              "      width: 32px;\n",
              "    }\n",
              "\n",
              "    .colab-df-convert:hover {\n",
              "      background-color: #E2EBFA;\n",
              "      box-shadow: 0px 1px 2px rgba(60, 64, 67, 0.3), 0px 1px 3px 1px rgba(60, 64, 67, 0.15);\n",
              "      fill: #174EA6;\n",
              "    }\n",
              "\n",
              "    [theme=dark] .colab-df-convert {\n",
              "      background-color: #3B4455;\n",
              "      fill: #D2E3FC;\n",
              "    }\n",
              "\n",
              "    [theme=dark] .colab-df-convert:hover {\n",
              "      background-color: #434B5C;\n",
              "      box-shadow: 0px 1px 3px 1px rgba(0, 0, 0, 0.15);\n",
              "      filter: drop-shadow(0px 1px 2px rgba(0, 0, 0, 0.3));\n",
              "      fill: #FFFFFF;\n",
              "    }\n",
              "  </style>\n",
              "\n",
              "      <script>\n",
              "        const buttonEl =\n",
              "          document.querySelector('#df-c09d9ddb-42aa-44d9-9c14-f4dcf784386d button.colab-df-convert');\n",
              "        buttonEl.style.display =\n",
              "          google.colab.kernel.accessAllowed ? 'block' : 'none';\n",
              "\n",
              "        async function convertToInteractive(key) {\n",
              "          const element = document.querySelector('#df-c09d9ddb-42aa-44d9-9c14-f4dcf784386d');\n",
              "          const dataTable =\n",
              "            await google.colab.kernel.invokeFunction('convertToInteractive',\n",
              "                                                     [key], {});\n",
              "          if (!dataTable) return;\n",
              "\n",
              "          const docLinkHtml = 'Like what you see? Visit the ' +\n",
              "            '<a target=\"_blank\" href=https://colab.research.google.com/notebooks/data_table.ipynb>data table notebook</a>'\n",
              "            + ' to learn more about interactive tables.';\n",
              "          element.innerHTML = '';\n",
              "          dataTable['output_type'] = 'display_data';\n",
              "          await google.colab.output.renderOutput(dataTable, element);\n",
              "          const docLink = document.createElement('div');\n",
              "          docLink.innerHTML = docLinkHtml;\n",
              "          element.appendChild(docLink);\n",
              "        }\n",
              "      </script>\n",
              "    </div>\n",
              "  </div>\n",
              "  "
            ]
          },
          "metadata": {},
          "execution_count": 9
        }
      ]
    },
    {
      "cell_type": "code",
      "source": [
        "n  = int(len(df)*.3)\n",
        "for index, row in df[:n].iterrows():\n",
        "    df.loc[index][0] = ''.join(random.sample(df.iloc[index][0], len(df.iloc[index][0])))"
      ],
      "metadata": {
        "id": "SpZ_Z2e9B500"
      },
      "execution_count": 10,
      "outputs": []
    },
    {
      "cell_type": "code",
      "source": [
        "df['type'] = 1 # Real\n",
        "for index, row in df[:n].iterrows():\n",
        "  df['type'][:n] = 0 # Fake"
      ],
      "metadata": {
        "colab": {
          "base_uri": "https://localhost:8080/"
        },
        "id": "nC5l5DwKaJAq",
        "outputId": "1fbffb59-850f-40ab-bfc3-c55ce92be3e8"
      },
      "execution_count": 11,
      "outputs": [
        {
          "output_type": "stream",
          "name": "stderr",
          "text": [
            "<ipython-input-11-2ffbaa3d14e7>:3: SettingWithCopyWarning: \n",
            "A value is trying to be set on a copy of a slice from a DataFrame\n",
            "\n",
            "See the caveats in the documentation: https://pandas.pydata.org/pandas-docs/stable/user_guide/indexing.html#returning-a-view-versus-a-copy\n",
            "  df['type'][:n] = 0 # Fake\n"
          ]
        }
      ]
    },
    {
      "cell_type": "code",
      "source": [
        "df = df.sample(frac=1).reset_index()"
      ],
      "metadata": {
        "id": "fzHvo9inedI6"
      },
      "execution_count": 12,
      "outputs": []
    },
    {
      "cell_type": "code",
      "source": [
        "df.drop(['index'], axis=1, inplace= True)"
      ],
      "metadata": {
        "id": "7I3p57ML7PZ8"
      },
      "execution_count": 13,
      "outputs": []
    },
    {
      "cell_type": "code",
      "source": [
        "df.head(10)"
      ],
      "metadata": {
        "colab": {
          "base_uri": "https://localhost:8080/",
          "height": 363
        },
        "id": "cz_7rQ_uFusR",
        "outputId": "5e6bde4e-44de-4e07-e194-f1c5ddb1015b"
      },
      "execution_count": 14,
      "outputs": [
        {
          "output_type": "execute_result",
          "data": {
            "text/plain": [
              "                       name  type\n",
              "0      ميبم وداديدحمز لوامح     0\n",
              "1             بامشرر  يسيغس     0\n",
              "2         صابرين فتحي عثمان     1\n",
              "3     ابراهيم حماده ابراهيم     1\n",
              "4             رحاب علي شوقي     1\n",
              "5   لحعيارد لباععامبددمينجط     0\n",
              "6           خالد غريب عرابي     1\n",
              "7           مهاب محمد دسوقي     1\n",
              "8       احمد فارس عبدالرازق     1\n",
              "9          بقطر ممدوح شحاته     1"
            ],
            "text/html": [
              "\n",
              "  <div id=\"df-3dbc56bc-70ba-40da-91e5-14d88feb3c3e\">\n",
              "    <div class=\"colab-df-container\">\n",
              "      <div>\n",
              "<style scoped>\n",
              "    .dataframe tbody tr th:only-of-type {\n",
              "        vertical-align: middle;\n",
              "    }\n",
              "\n",
              "    .dataframe tbody tr th {\n",
              "        vertical-align: top;\n",
              "    }\n",
              "\n",
              "    .dataframe thead th {\n",
              "        text-align: right;\n",
              "    }\n",
              "</style>\n",
              "<table border=\"1\" class=\"dataframe\">\n",
              "  <thead>\n",
              "    <tr style=\"text-align: right;\">\n",
              "      <th></th>\n",
              "      <th>name</th>\n",
              "      <th>type</th>\n",
              "    </tr>\n",
              "  </thead>\n",
              "  <tbody>\n",
              "    <tr>\n",
              "      <th>0</th>\n",
              "      <td>ميبم وداديدحمز لوامح</td>\n",
              "      <td>0</td>\n",
              "    </tr>\n",
              "    <tr>\n",
              "      <th>1</th>\n",
              "      <td>بامشرر  يسيغس</td>\n",
              "      <td>0</td>\n",
              "    </tr>\n",
              "    <tr>\n",
              "      <th>2</th>\n",
              "      <td>صابرين فتحي عثمان</td>\n",
              "      <td>1</td>\n",
              "    </tr>\n",
              "    <tr>\n",
              "      <th>3</th>\n",
              "      <td>ابراهيم حماده ابراهيم</td>\n",
              "      <td>1</td>\n",
              "    </tr>\n",
              "    <tr>\n",
              "      <th>4</th>\n",
              "      <td>رحاب علي شوقي</td>\n",
              "      <td>1</td>\n",
              "    </tr>\n",
              "    <tr>\n",
              "      <th>5</th>\n",
              "      <td>لحعيارد لباععامبددمينجط</td>\n",
              "      <td>0</td>\n",
              "    </tr>\n",
              "    <tr>\n",
              "      <th>6</th>\n",
              "      <td>خالد غريب عرابي</td>\n",
              "      <td>1</td>\n",
              "    </tr>\n",
              "    <tr>\n",
              "      <th>7</th>\n",
              "      <td>مهاب محمد دسوقي</td>\n",
              "      <td>1</td>\n",
              "    </tr>\n",
              "    <tr>\n",
              "      <th>8</th>\n",
              "      <td>احمد فارس عبدالرازق</td>\n",
              "      <td>1</td>\n",
              "    </tr>\n",
              "    <tr>\n",
              "      <th>9</th>\n",
              "      <td>بقطر ممدوح شحاته</td>\n",
              "      <td>1</td>\n",
              "    </tr>\n",
              "  </tbody>\n",
              "</table>\n",
              "</div>\n",
              "      <button class=\"colab-df-convert\" onclick=\"convertToInteractive('df-3dbc56bc-70ba-40da-91e5-14d88feb3c3e')\"\n",
              "              title=\"Convert this dataframe to an interactive table.\"\n",
              "              style=\"display:none;\">\n",
              "        \n",
              "  <svg xmlns=\"http://www.w3.org/2000/svg\" height=\"24px\"viewBox=\"0 0 24 24\"\n",
              "       width=\"24px\">\n",
              "    <path d=\"M0 0h24v24H0V0z\" fill=\"none\"/>\n",
              "    <path d=\"M18.56 5.44l.94 2.06.94-2.06 2.06-.94-2.06-.94-.94-2.06-.94 2.06-2.06.94zm-11 1L8.5 8.5l.94-2.06 2.06-.94-2.06-.94L8.5 2.5l-.94 2.06-2.06.94zm10 10l.94 2.06.94-2.06 2.06-.94-2.06-.94-.94-2.06-.94 2.06-2.06.94z\"/><path d=\"M17.41 7.96l-1.37-1.37c-.4-.4-.92-.59-1.43-.59-.52 0-1.04.2-1.43.59L10.3 9.45l-7.72 7.72c-.78.78-.78 2.05 0 2.83L4 21.41c.39.39.9.59 1.41.59.51 0 1.02-.2 1.41-.59l7.78-7.78 2.81-2.81c.8-.78.8-2.07 0-2.86zM5.41 20L4 18.59l7.72-7.72 1.47 1.35L5.41 20z\"/>\n",
              "  </svg>\n",
              "      </button>\n",
              "      \n",
              "  <style>\n",
              "    .colab-df-container {\n",
              "      display:flex;\n",
              "      flex-wrap:wrap;\n",
              "      gap: 12px;\n",
              "    }\n",
              "\n",
              "    .colab-df-convert {\n",
              "      background-color: #E8F0FE;\n",
              "      border: none;\n",
              "      border-radius: 50%;\n",
              "      cursor: pointer;\n",
              "      display: none;\n",
              "      fill: #1967D2;\n",
              "      height: 32px;\n",
              "      padding: 0 0 0 0;\n",
              "      width: 32px;\n",
              "    }\n",
              "\n",
              "    .colab-df-convert:hover {\n",
              "      background-color: #E2EBFA;\n",
              "      box-shadow: 0px 1px 2px rgba(60, 64, 67, 0.3), 0px 1px 3px 1px rgba(60, 64, 67, 0.15);\n",
              "      fill: #174EA6;\n",
              "    }\n",
              "\n",
              "    [theme=dark] .colab-df-convert {\n",
              "      background-color: #3B4455;\n",
              "      fill: #D2E3FC;\n",
              "    }\n",
              "\n",
              "    [theme=dark] .colab-df-convert:hover {\n",
              "      background-color: #434B5C;\n",
              "      box-shadow: 0px 1px 3px 1px rgba(0, 0, 0, 0.15);\n",
              "      filter: drop-shadow(0px 1px 2px rgba(0, 0, 0, 0.3));\n",
              "      fill: #FFFFFF;\n",
              "    }\n",
              "  </style>\n",
              "\n",
              "      <script>\n",
              "        const buttonEl =\n",
              "          document.querySelector('#df-3dbc56bc-70ba-40da-91e5-14d88feb3c3e button.colab-df-convert');\n",
              "        buttonEl.style.display =\n",
              "          google.colab.kernel.accessAllowed ? 'block' : 'none';\n",
              "\n",
              "        async function convertToInteractive(key) {\n",
              "          const element = document.querySelector('#df-3dbc56bc-70ba-40da-91e5-14d88feb3c3e');\n",
              "          const dataTable =\n",
              "            await google.colab.kernel.invokeFunction('convertToInteractive',\n",
              "                                                     [key], {});\n",
              "          if (!dataTable) return;\n",
              "\n",
              "          const docLinkHtml = 'Like what you see? Visit the ' +\n",
              "            '<a target=\"_blank\" href=https://colab.research.google.com/notebooks/data_table.ipynb>data table notebook</a>'\n",
              "            + ' to learn more about interactive tables.';\n",
              "          element.innerHTML = '';\n",
              "          dataTable['output_type'] = 'display_data';\n",
              "          await google.colab.output.renderOutput(dataTable, element);\n",
              "          const docLink = document.createElement('div');\n",
              "          docLink.innerHTML = docLinkHtml;\n",
              "          element.appendChild(docLink);\n",
              "        }\n",
              "      </script>\n",
              "    </div>\n",
              "  </div>\n",
              "  "
            ]
          },
          "metadata": {},
          "execution_count": 14
        }
      ]
    },
    {
      "cell_type": "code",
      "source": [
        "from sklearn.model_selection import train_test_split\n",
        "X_train, X_test, y_train, y_test = train_test_split(df['name'], df['type'], test_size=.2, random_state = 1)"
      ],
      "metadata": {
        "id": "MHcpZ6CsyQul"
      },
      "execution_count": 15,
      "outputs": []
    },
    {
      "cell_type": "code",
      "source": [
        "X_train.shape"
      ],
      "metadata": {
        "colab": {
          "base_uri": "https://localhost:8080/"
        },
        "id": "kW4toXqyUg_H",
        "outputId": "f770dd66-0754-4043-c35a-75c774f4b381"
      },
      "execution_count": 26,
      "outputs": [
        {
          "output_type": "execute_result",
          "data": {
            "text/plain": [
              "(558556,)"
            ]
          },
          "metadata": {},
          "execution_count": 26
        }
      ]
    },
    {
      "cell_type": "code",
      "source": [
        "X_test.shape"
      ],
      "metadata": {
        "colab": {
          "base_uri": "https://localhost:8080/"
        },
        "id": "G9RNG1uvVMwP",
        "outputId": "41e52fd5-3d8d-44a3-ee06-de56a2b327dd"
      },
      "execution_count": 27,
      "outputs": [
        {
          "output_type": "execute_result",
          "data": {
            "text/plain": [
              "(139640,)"
            ]
          },
          "metadata": {},
          "execution_count": 27
        }
      ]
    },
    {
      "cell_type": "code",
      "source": [
        "tokenizer = Tokenizer(num_words = 5000)\n",
        "tokenizer.fit_on_texts(X_train.astype(\"str\"))\n",
        "\n",
        "train = tokenizer.texts_to_sequences(X_train.astype(\"str\"))\n",
        "test = tokenizer.texts_to_sequences(X_test.astype(\"str\"))\n",
        "\n",
        "vocab_size = len(tokenizer.word_index) + 1 "
      ],
      "metadata": {
        "id": "R3IwGQjNyQw4"
      },
      "execution_count": 16,
      "outputs": []
    },
    {
      "cell_type": "code",
      "source": [
        "maxlen = 5\n",
        "\n",
        "train = pad_sequences(train, padding = 'post', maxlen = maxlen)\n",
        "test = pad_sequences(test, padding = 'post', maxlen = maxlen)\n",
        "\n",
        "print(train[0, :])"
      ],
      "metadata": {
        "colab": {
          "base_uri": "https://localhost:8080/"
        },
        "id": "TJEDF8jEyQy2",
        "outputId": "c95c2d4f-11e5-4a88-e4e7-d2b5ac61a18a"
      },
      "execution_count": 17,
      "outputs": [
        {
          "output_type": "stream",
          "name": "stdout",
          "text": [
            "[1787  740    0    0    0]\n"
          ]
        }
      ]
    },
    {
      "cell_type": "code",
      "source": [
        "import pickle\n",
        "\n",
        "# saving\n",
        "with open('tokenizer.pickle', 'wb') as handle:\n",
        "    pickle.dump(tokenizer, handle, protocol=pickle.HIGHEST_PROTOCOL)\n",
        "\n",
        "# loading\n",
        "with open('tokenizer.pickle', 'rb') as handle:\n",
        "    tokenizer = pickle.load(handle)"
      ],
      "metadata": {
        "id": "UrCmbHG0oa9Z"
      },
      "execution_count": 18,
      "outputs": []
    },
    {
      "cell_type": "code",
      "source": [
        "embedding_dim = 5\n",
        "\n",
        "model = Sequential()\n",
        "model.add(layers.Embedding(input_dim = vocab_size, output_dim = embedding_dim, input_length = maxlen))\n",
        "model.add(layers.Flatten())\n",
        "model.add(layers.Dense(10, activation = 'relu'))\n",
        "model.add(layers.Dense(1, activation = 'sigmoid'))\n",
        "model.compile(optimizer = 'adam', loss = 'binary_crossentropy', metrics = ['accuracy'])\n",
        "model.summary()"
      ],
      "metadata": {
        "colab": {
          "base_uri": "https://localhost:8080/"
        },
        "id": "hWjx9rEGyQ1I",
        "outputId": "4a9e0096-3600-4386-9a7d-e47e5f8f12ad"
      },
      "execution_count": 19,
      "outputs": [
        {
          "output_type": "stream",
          "name": "stdout",
          "text": [
            "Model: \"sequential\"\n",
            "_________________________________________________________________\n",
            " Layer (type)                Output Shape              Param #   \n",
            "=================================================================\n",
            " embedding (Embedding)       (None, 5, 5)              1354960   \n",
            "                                                                 \n",
            " flatten (Flatten)           (None, 25)                0         \n",
            "                                                                 \n",
            " dense (Dense)               (None, 10)                260       \n",
            "                                                                 \n",
            " dense_1 (Dense)             (None, 1)                 11        \n",
            "                                                                 \n",
            "=================================================================\n",
            "Total params: 1,355,231\n",
            "Trainable params: 1,355,231\n",
            "Non-trainable params: 0\n",
            "_________________________________________________________________\n"
          ]
        }
      ]
    },
    {
      "cell_type": "code",
      "source": [
        "history = model.fit(train, y_train, epochs = 5, verbose = 1, batch_size = 64)"
      ],
      "metadata": {
        "colab": {
          "base_uri": "https://localhost:8080/"
        },
        "id": "3coRk4C5aiLI",
        "outputId": "40c04c0f-82b0-49c0-b6b3-20e65d76272d"
      },
      "execution_count": 20,
      "outputs": [
        {
          "output_type": "stream",
          "name": "stdout",
          "text": [
            "Epoch 1/5\n",
            "8728/8728 [==============================] - 41s 4ms/step - loss: 0.0178 - accuracy: 0.9940\n",
            "Epoch 2/5\n",
            "8728/8728 [==============================] - 32s 4ms/step - loss: 0.0032 - accuracy: 0.9991\n",
            "Epoch 3/5\n",
            "8728/8728 [==============================] - 30s 3ms/step - loss: 0.0028 - accuracy: 0.9992\n",
            "Epoch 4/5\n",
            "8728/8728 [==============================] - 30s 3ms/step - loss: 0.0026 - accuracy: 0.9993\n",
            "Epoch 5/5\n",
            "8728/8728 [==============================] - 38s 4ms/step - loss: 0.0025 - accuracy: 0.9993\n"
          ]
        }
      ]
    },
    {
      "cell_type": "code",
      "source": [
        "loss, accuracy = model.evaluate(train, y_train, verbose = 1)\n",
        "print(\"Training Accuracy: {:.4f}\".format(accuracy))\n",
        "\n",
        "loss, accuracy = model.evaluate(test, y_test, verbose = 1)\n",
        "print(\"Testing Accuracy:  {:.4f}\".format(accuracy))"
      ],
      "metadata": {
        "id": "4o1nk-ontwgh",
        "colab": {
          "base_uri": "https://localhost:8080/"
        },
        "outputId": "a1904e67-cbcf-4efd-a0da-b3898ad5c26c"
      },
      "execution_count": 21,
      "outputs": [
        {
          "output_type": "stream",
          "name": "stdout",
          "text": [
            "17455/17455 [==============================] - 37s 2ms/step - loss: 0.0023 - accuracy: 0.9994\n",
            "Training Accuracy: 0.9994\n",
            "4364/4364 [==============================] - 9s 2ms/step - loss: 0.0030 - accuracy: 0.9992\n",
            "Testing Accuracy:  0.9992\n"
          ]
        }
      ]
    },
    {
      "cell_type": "code",
      "source": [
        "inputs = ['احمد محمد محمود' ,'لهغالا بررهممتاا طط' ,'عمر اسماعيل السيد']\n",
        "sequence = tokenizer.texts_to_sequences(inputs)\n",
        "sequence = pad_sequences(sequence, padding = 'post', maxlen = maxlen)\n",
        "\n",
        "predictions = model.predict(sequence)\n",
        "predictions = np.where(predictions > 0.5, 1, 0)\n",
        "print(predictions)"
      ],
      "metadata": {
        "colab": {
          "base_uri": "https://localhost:8080/"
        },
        "outputId": "9ed4b6f9-405b-4638-dffc-2e31020236e7",
        "id": "n7TNIxm4Fdxl"
      },
      "execution_count": 22,
      "outputs": [
        {
          "output_type": "stream",
          "name": "stdout",
          "text": [
            "1/1 [==============================] - 0s 80ms/step\n",
            "[[1]\n",
            " [0]\n",
            " [1]]\n"
          ]
        }
      ]
    },
    {
      "cell_type": "code",
      "source": [
        "model.save(\"model.h5\")"
      ],
      "metadata": {
        "id": "rYgLPzaw7TaI"
      },
      "execution_count": 23,
      "outputs": []
    },
    {
      "cell_type": "code",
      "source": [
        "mod = tf.keras.models.load_model('model.h5')"
      ],
      "metadata": {
        "id": "jIqtAa6K_IA-"
      },
      "execution_count": 24,
      "outputs": []
    },
    {
      "cell_type": "code",
      "source": [
        "inputs = ['احمد محمد محمود' ,'لهغالا بررهممتاا طط' ,'عمر اسماعيل السيد']\n",
        "sequence = tokenizer.texts_to_sequences(inputs)\n",
        "sequence = pad_sequences(sequence, padding = 'post', maxlen = maxlen)\n",
        "\n",
        "predictions = mod.predict(sequence)\n",
        "predictions = np.where(predictions > 0.5, 1, 0)\n",
        "print(predictions)"
      ],
      "metadata": {
        "colab": {
          "base_uri": "https://localhost:8080/"
        },
        "outputId": "dbf195b5-1c96-4fec-b96b-7ad46218e422",
        "id": "bU4vxmL9YAXw"
      },
      "execution_count": 25,
      "outputs": [
        {
          "output_type": "stream",
          "name": "stdout",
          "text": [
            "1/1 [==============================] - 0s 47ms/step\n",
            "[[1]\n",
            " [0]\n",
            " [1]]\n"
          ]
        }
      ]
    },
    {
      "cell_type": "code",
      "source": [],
      "metadata": {
        "id": "Pde4wVUjT842"
      },
      "execution_count": 25,
      "outputs": []
    }
  ]
}